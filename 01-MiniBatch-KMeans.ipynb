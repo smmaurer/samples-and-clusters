{
 "cells": [
  {
   "cell_type": "code",
   "execution_count": null,
   "metadata": {
    "collapsed": true
   },
   "outputs": [],
   "source": []
  },
  {
   "cell_type": "code",
   "execution_count": 23,
   "metadata": {
    "collapsed": true
   },
   "outputs": [],
   "source": [
    "import numpy as np\n",
    "import pandas as pd\n",
    "import sklearn"
   ]
  },
  {
   "cell_type": "code",
   "execution_count": null,
   "metadata": {
    "collapsed": true
   },
   "outputs": [],
   "source": []
  },
  {
   "cell_type": "code",
   "execution_count": 93,
   "metadata": {
    "collapsed": false
   },
   "outputs": [
    {
     "name": "stdout",
     "output_type": "stream",
     "text": [
      "CPU times: user 1min 9s, sys: 7.85 s, total: 1min 17s\n",
      "Wall time: 1min 19s\n"
     ]
    }
   ],
   "source": [
    "%%time\n",
    "\n",
    "data_path = '/Users/smmaurer/Dropbox/Data/Twitter/Westcoast-tweets-processed/'\n",
    "\n",
    "tw = pd.read_hdf(data_path + 'westcoast-201510.h5', 'tweets') \\\n",
    "     .append(pd.read_hdf(data_path + 'westcoast-201511.h5', 'tweets')) \\\n",
    "     .append(pd.read_hdf(data_path + 'westcoast-201512.h5', 'tweets'))"
   ]
  },
  {
   "cell_type": "code",
   "execution_count": 5,
   "metadata": {
    "collapsed": false
   },
   "outputs": [
    {
     "name": "stdout",
     "output_type": "stream",
     "text": [
      "                 id           lat           lng       user_id\n",
      "count  2.061033e+06  2.061033e+06  2.061033e+06  2.061033e+06\n",
      "mean   6.553610e+17  3.817756e+01 -1.195588e+02  7.251115e+08\n",
      "std    3.227231e+15  5.348577e+00  3.506524e+00  1.029895e+09\n",
      "min    6.497704e+17 -3.779492e+01 -1.300296e+02  2.200000e+01\n",
      "25%    6.526076e+17  3.405220e+01 -1.223310e+02  3.412892e+07\n",
      "50%    6.554068e+17  3.660024e+01 -1.185519e+02  1.847794e+08\n",
      "75%    6.580685e+17  3.924222e+01 -1.178956e+02  9.803579e+08\n",
      "max    6.609889e+17  6.047916e+01  1.512035e+02  4.095923e+09\n"
     ]
    }
   ],
   "source": [
    "print tw.describe()"
   ]
  },
  {
   "cell_type": "code",
   "execution_count": 94,
   "metadata": {
    "collapsed": false
   },
   "outputs": [
    {
     "name": "stdout",
     "output_type": "stream",
     "text": [
      "                 id           lat           lng       user_id\n",
      "count  1.292488e+06  1.292488e+06  1.292488e+06  1.292488e+06\n",
      "mean   6.661746e+17  3.779279e+01 -1.222459e+02  1.007188e+09\n",
      "std    9.553609e+15  3.797599e-01  4.677256e-01  1.320650e+09\n",
      "min    6.497705e+17  3.680020e+01 -1.235879e+02  2.200000e+01\n",
      "25%    6.578715e+17  3.761561e+01 -1.224353e+02  2.582908e+07\n",
      "50%    6.660134e+17  3.776159e+01 -1.222741e+02  1.948950e+08\n",
      "75%    6.743473e+17  3.783363e+01 -1.219552e+02  2.251424e+09\n",
      "max    6.830747e+17  3.889966e+01 -1.212000e+02  4.691486e+09\n"
     ]
    }
   ],
   "source": [
    "# Limit to Bay Area\n",
    "\n",
    "ba = tw.loc[(tw.lat > 36.8) & (tw.lat < 38.9) & \n",
    "            (tw.lng > -123.6) & (tw.lng < -121.2)].copy()\n",
    "\n",
    "print ba.describe()"
   ]
  },
  {
   "cell_type": "code",
   "execution_count": 95,
   "metadata": {
    "collapsed": false
   },
   "outputs": [
    {
     "name": "stdout",
     "output_type": "stream",
     "text": [
      "                  x             y\n",
      "count  1.292488e+06  1.292488e+06\n",
      "mean  -5.212992e-12 -1.068724e-12\n",
      "std    4.195499e+01  4.279894e+01\n",
      "min   -1.203796e+02 -1.118638e+02\n",
      "25%   -1.698765e+01 -1.996787e+01\n",
      "50%   -2.534975e+00 -3.515573e+00\n",
      "75%    2.606981e+01  4.602996e+00\n",
      "max    9.381319e+01  1.247445e+02\n"
     ]
    }
   ],
   "source": [
    "# Scale data to kilometers (approx)\n",
    "\n",
    "ba['x'] = (ba.lng - ba.lng.mean()) * 89.7\n",
    "ba['y'] = (ba.lat - ba.lat.mean()) * 112.7\n",
    "\n",
    "print ba.loc[:,['x','y']].describe()"
   ]
  },
  {
   "cell_type": "code",
   "execution_count": 29,
   "metadata": {
    "collapsed": false
   },
   "outputs": [
    {
     "name": "stdout",
     "output_type": "stream",
     "text": [
      "-122.226987699\n"
     ]
    }
   ],
   "source": []
  },
  {
   "cell_type": "code",
   "execution_count": null,
   "metadata": {
    "collapsed": true
   },
   "outputs": [],
   "source": [
    "'''\n",
    "Generate quick and dirty clusters of similar spatial extent,\n",
    "to get a sense of where the top activity destinations are\n",
    "\n",
    "'''"
   ]
  },
  {
   "cell_type": "code",
   "execution_count": 104,
   "metadata": {
    "collapsed": false
   },
   "outputs": [
    {
     "name": "stdout",
     "output_type": "stream",
     "text": [
      "CPU times: user 1min 31s, sys: 2.8 s, total: 1min 34s\n",
      "Wall time: 23.7 s\n"
     ]
    }
   ],
   "source": [
    "%%time\n",
    "\n",
    "k = 500\n",
    "\n",
    "mbkm = sklearn.cluster.MiniBatchKMeans(n_clusters=k, batch_size=5000, n_init=20)\n",
    "mbkm.fit(ba.loc[:,['x','y']])"
   ]
  },
  {
   "cell_type": "code",
   "execution_count": 105,
   "metadata": {
    "collapsed": false
   },
   "outputs": [
    {
     "name": "stdout",
     "output_type": "stream",
     "text": [
      "                x           y         lng         lat\n",
      "count  500.000000  500.000000  500.000000  500.000000\n",
      "mean     7.175216    1.804841 -122.165878   37.808800\n",
      "std     39.637224   44.774778    0.441887    0.397292\n",
      "min    -68.741284 -100.228287 -123.012215   36.903448\n",
      "25%    -15.567125  -25.147111 -122.419415   37.569652\n",
      "50%      0.512130   -3.101525 -122.240160   37.765265\n",
      "75%     29.441204   13.042138 -121.917650   37.908510\n",
      "max     91.364741  118.191708 -121.227310   38.841514\n"
     ]
    }
   ],
   "source": [
    "# Save cluster assignments and centroids\n",
    "\n",
    "ba['label'] = mbkm.labels_\n",
    "\n",
    "clusters = pd.DataFrame(mbkm.cluster_centers_)\n",
    "clusters.columns = ['x','y']\n",
    "\n",
    "clusters['lng'] = (clusters.x / 89.7) + ba.lng.mean()\n",
    "clusters['lat'] = (clusters.y / 112.7) + ba.lat.mean()\n",
    "\n",
    "print clusters.describe()"
   ]
  },
  {
   "cell_type": "code",
   "execution_count": 106,
   "metadata": {
    "collapsed": true
   },
   "outputs": [],
   "source": [
    "# Add point counts\n",
    "\n",
    "clusters['n'] = ba.label.value_counts(sort=False)"
   ]
  },
  {
   "cell_type": "code",
   "execution_count": 107,
   "metadata": {
    "collapsed": false
   },
   "outputs": [],
   "source": [
    "# Calculate distance from each point to its cluster centroid,\n",
    "# and report max radius for each cluster\n",
    "\n",
    "_d = ba.loc[:,['x','y','label']]  # columns needed from data table\n",
    "_k = clusters.loc[:,['x','y']]  # columns needed from cluster table\n",
    "_k.columns = ['k_x','k_y']\n",
    "\n",
    "_d = _d.merge(_k, left_on='label', right_index=True)\n",
    "\n",
    "_points = _d[['x','y']].as_matrix()\n",
    "_centroids = _d[['k_x','k_y']].as_matrix()\n",
    "\n",
    "_d['distance'] = np.sqrt(np.square(_points - _centroids).sum(axis=1))\n",
    "\n",
    "clusters['radius'] = _d[['label','distance']].groupby('label').max()"
   ]
  },
  {
   "cell_type": "code",
   "execution_count": 108,
   "metadata": {
    "collapsed": false
   },
   "outputs": [
    {
     "name": "stdout",
     "output_type": "stream",
     "text": [
      "           n     radius\n",
      "387  46643.0   0.068138\n",
      "445  42910.0   0.071662\n",
      "3    38037.0   0.040008\n",
      "294  34891.0   0.061898\n",
      "291  34533.0   0.053341\n",
      "273  30366.0   0.506923\n",
      "359  28973.0   0.055152\n",
      "43   26618.0   4.258852\n",
      "398  22938.0   0.647672\n",
      "331  20537.0   0.310242\n",
      "90   14899.0   1.543123\n",
      "163  13523.0   0.661175\n",
      "50   11790.0   0.559472\n",
      "124  10980.0   3.756637\n",
      "33   10664.0   0.427373\n",
      "40    9561.0  12.449860\n",
      "216   9298.0  11.138663\n",
      "417   9063.0   0.847600\n",
      "424   8722.0   1.472339\n",
      "74    8360.0   0.481726\n",
      "73    8138.0   7.053729\n",
      "83    8062.0   9.340627\n",
      "10    7394.0   5.931216\n",
      "102   7077.0  15.969930\n",
      "128   7057.0   5.617037\n",
      "430   6992.0  71.138104\n",
      "172   6495.0  14.066700\n",
      "85    6472.0   2.008422\n",
      "489   6339.0  22.667013\n",
      "112   6207.0   6.159380\n",
      "..       ...        ...\n",
      "150      NaN        NaN\n",
      "158      NaN        NaN\n",
      "161      NaN        NaN\n",
      "178      NaN        NaN\n",
      "197      NaN        NaN\n",
      "226      NaN        NaN\n",
      "252      NaN        NaN\n",
      "255      NaN        NaN\n",
      "257      NaN        NaN\n",
      "268      NaN        NaN\n",
      "282      NaN        NaN\n",
      "295      NaN        NaN\n",
      "299      NaN        NaN\n",
      "302      NaN        NaN\n",
      "315      NaN        NaN\n",
      "317      NaN        NaN\n",
      "321      NaN        NaN\n",
      "333      NaN        NaN\n",
      "354      NaN        NaN\n",
      "361      NaN        NaN\n",
      "367      NaN        NaN\n",
      "369      NaN        NaN\n",
      "383      NaN        NaN\n",
      "407      NaN        NaN\n",
      "408      NaN        NaN\n",
      "416      NaN        NaN\n",
      "451      NaN        NaN\n",
      "453      NaN        NaN\n",
      "460      NaN        NaN\n",
      "482      NaN        NaN\n",
      "\n",
      "[500 rows x 2 columns]\n"
     ]
    }
   ],
   "source": [
    "print clusters[['n','radius']].sort_values(by='n', ascending=False)"
   ]
  },
  {
   "cell_type": "code",
   "execution_count": null,
   "metadata": {
    "collapsed": true
   },
   "outputs": [],
   "source": []
  },
  {
   "cell_type": "code",
   "execution_count": 103,
   "metadata": {
    "collapsed": true
   },
   "outputs": [],
   "source": [
    "# Save the centroids for visualization\n",
    "\n",
    "out = clusters[['lng','lat','n']]\n",
    "\n",
    "out.to_csv('clusters_all.csv')\n",
    "out.loc[out.n > 5000].to_csv('clusters_top.csv')"
   ]
  },
  {
   "cell_type": "code",
   "execution_count": null,
   "metadata": {
    "collapsed": true
   },
   "outputs": [],
   "source": []
  },
  {
   "cell_type": "code",
   "execution_count": null,
   "metadata": {
    "collapsed": true
   },
   "outputs": [],
   "source": []
  },
  {
   "cell_type": "code",
   "execution_count": null,
   "metadata": {
    "collapsed": true
   },
   "outputs": [],
   "source": []
  }
 ],
 "metadata": {
  "kernelspec": {
   "display_name": "Python 2",
   "language": "python",
   "name": "python2"
  },
  "language_info": {
   "codemirror_mode": {
    "name": "ipython",
    "version": 2
   },
   "file_extension": ".py",
   "mimetype": "text/x-python",
   "name": "python",
   "nbconvert_exporter": "python",
   "pygments_lexer": "ipython2",
   "version": "2.7.11"
  }
 },
 "nbformat": 4,
 "nbformat_minor": 0
}

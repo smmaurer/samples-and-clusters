{
 "cells": [
  {
   "cell_type": "code",
   "execution_count": null,
   "metadata": {
    "collapsed": true
   },
   "outputs": [],
   "source": []
  },
  {
   "cell_type": "code",
   "execution_count": 1,
   "metadata": {
    "collapsed": true
   },
   "outputs": [],
   "source": [
    "import numpy as np\n",
    "import pandas as pd"
   ]
  },
  {
   "cell_type": "markdown",
   "metadata": {},
   "source": [
    "### Define bounds and unit transformations"
   ]
  },
  {
   "cell_type": "code",
   "execution_count": 4,
   "metadata": {
    "collapsed": true
   },
   "outputs": [],
   "source": [
    "# Define bounds of the Bay Area\n",
    "\n",
    "lng_min, lng_max = (-123.6, -121.2)\n",
    "lat_min, lat_max = (36.8, 38.9)"
   ]
  },
  {
   "cell_type": "code",
   "execution_count": 10,
   "metadata": {
    "collapsed": true
   },
   "outputs": [],
   "source": [
    "# Convert this somtime to use actual map projections\n",
    "# x,y units here are kilometers\n",
    "\n",
    "def lnglat_to_xy(lng, lat):\n",
    "    x = (lng - lng_min) * 89.7\n",
    "    y = (lat - lat_min) * 112.7\n",
    "    return (x, y)\n",
    "\n",
    "def xy_to_lnglat(x, y):\n",
    "    lng = (x / 89.7) + lng_min\n",
    "    lat = (y / 112.7) + lat_min\n",
    "    return (lng, lat)"
   ]
  },
  {
   "cell_type": "code",
   "execution_count": 9,
   "metadata": {
    "collapsed": false
   },
   "outputs": [
    {
     "name": "stdout",
     "output_type": "stream",
     "text": [
      "0.0 0.0 215.28 236.67\n"
     ]
    }
   ],
   "source": [
    "x_min, y_min = lnglat_to_xy(lng_min, lat_min)\n",
    "x_max, y_max = lnglat_to_xy(lng_max, lat_max)\n",
    "\n",
    "print x_min, y_min, x_max, y_max"
   ]
  },
  {
   "cell_type": "code",
   "execution_count": null,
   "metadata": {
    "collapsed": true
   },
   "outputs": [],
   "source": []
  },
  {
   "cell_type": "markdown",
   "metadata": {},
   "source": [
    "### Load some data"
   ]
  },
  {
   "cell_type": "code",
   "execution_count": 7,
   "metadata": {
    "collapsed": true
   },
   "outputs": [],
   "source": [
    "data_path = '/Users/smmaurer/Dropbox/Data/Twitter/Westcoast-tweets-processed/'"
   ]
  },
  {
   "cell_type": "code",
   "execution_count": 5,
   "metadata": {
    "collapsed": false
   },
   "outputs": [
    {
     "name": "stdout",
     "output_type": "stream",
     "text": [
      "CPU times: user 2.36 s, sys: 1.69 s, total: 4.05 s\n",
      "Wall time: 4.54 s\n"
     ]
    }
   ],
   "source": [
    "%%time\n",
    "tw = pd.read_hdf(data_path + 'westcoast-201510.h5', 'tweets')"
   ]
  },
  {
   "cell_type": "code",
   "execution_count": 6,
   "metadata": {
    "collapsed": false
   },
   "outputs": [
    {
     "name": "stdout",
     "output_type": "stream",
     "text": [
      "                 id            lat            lng       user_id\n",
      "count  4.475370e+05  447537.000000  447537.000000  4.475370e+05\n",
      "mean   6.554222e+17      37.795180    -122.226988  9.265430e+08\n",
      "std    3.222303e+15       0.379636       0.453439  1.255792e+09\n",
      "min    6.497705e+17      36.800205    -123.587430  2.220000e+02\n",
      "25%    6.526424e+17      37.615608    -122.424600  2.572036e+07\n",
      "50%    6.554710e+17      37.769765    -122.272738  1.739835e+08\n",
      "75%    6.581026e+17      37.840340    -121.959000  1.589693e+09\n",
      "max    6.609889e+17      38.899250    -121.200014  4.091105e+09\n"
     ]
    }
   ],
   "source": [
    "# Limit to Bay Area\n",
    "\n",
    "ba = tw.loc[(tw.lat > lat_min) & (tw.lat < lat_max) & \n",
    "            (tw.lng > lng_min) & (tw.lng < lng_max)].copy()\n",
    "\n",
    "print ba.describe()"
   ]
  },
  {
   "cell_type": "code",
   "execution_count": 18,
   "metadata": {
    "collapsed": false
   },
   "outputs": [
    {
     "name": "stdout",
     "output_type": "stream",
     "text": [
      "                   x              y\n",
      "count  447537.000000  447537.000000\n",
      "mean      123.159203     112.156810\n",
      "std        40.673484      42.784994\n",
      "min         1.127529       0.023064\n",
      "25%       105.433380      91.919022\n",
      "50%       119.055357     109.292502\n",
      "75%       147.197736     117.246295\n",
      "max       215.278740     236.585475\n"
     ]
    }
   ],
   "source": [
    "# Project to x, y coordinates\n",
    "\n",
    "ba['x'], ba['y'] = lnglat_to_xy(ba.lng, ba.lat)\n",
    "\n",
    "print ba[['x','y']].describe()"
   ]
  },
  {
   "cell_type": "code",
   "execution_count": null,
   "metadata": {
    "collapsed": false
   },
   "outputs": [],
   "source": []
  },
  {
   "cell_type": "markdown",
   "metadata": {},
   "source": [
    "### Generate grid cells"
   ]
  },
  {
   "cell_type": "code",
   "execution_count": 57,
   "metadata": {
    "collapsed": true
   },
   "outputs": [],
   "source": [
    "# Define parameters\n",
    "\n",
    "width = 0.5  # width of each cell in kilometers\n",
    "overlap = 0.5  # portion of each cell that overlaps with the next, in both directions"
   ]
  },
  {
   "cell_type": "code",
   "execution_count": 58,
   "metadata": {
    "collapsed": false
   },
   "outputs": [
    {
     "name": "stdout",
     "output_type": "stream",
     "text": [
      "814506\n",
      "CPU times: user 11.7 ms, sys: 11.4 ms, total: 23.1 ms\n",
      "Wall time: 21.4 ms\n"
     ]
    }
   ],
   "source": [
    "%%time\n",
    "# Create x, y center points\n",
    "\n",
    "start = x_min + width/2\n",
    "stop = x_max\n",
    "step = width * (1 - overlap)\n",
    "\n",
    "_x = np.arange(start, stop, step)\n",
    "\n",
    "start = y_min + width/2\n",
    "stop = y_max\n",
    "\n",
    "_y = np.arange(start, stop, step)\n",
    "\n",
    "# Cartesian product\n",
    "_cp = np.transpose([np.tile(_x, len(_y)), np.repeat(_y, len(_x))])\n",
    "\n",
    "gridcells = pd.DataFrame(_cp)\n",
    "gridcells.columns = ['x','y']\n",
    "\n",
    "print len(gridcells)"
   ]
  },
  {
   "cell_type": "code",
   "execution_count": 59,
   "metadata": {
    "collapsed": false
   },
   "outputs": [
    {
     "name": "stdout",
     "output_type": "stream",
     "text": [
      "                   x              y              n\n",
      "count  814506.000000  814506.000000  814506.000000\n",
      "mean      107.750000     118.375000       2.197789\n",
      "std        62.137319      68.271673     121.791587\n",
      "min         0.250000       0.250000       0.000000\n",
      "25%        54.000000      59.250000       0.000000\n",
      "50%       107.750000     118.375000       0.000000\n",
      "75%       161.500000     177.500000       0.000000\n",
      "max       215.250000     236.500000   54991.000000\n",
      "CPU times: user 1h 3min 36s, sys: 43.4 s, total: 1h 4min 20s\n",
      "Wall time: 1h 31min 31s\n"
     ]
    }
   ],
   "source": [
    "%%time\n",
    "\n",
    "# How many data points in each gridcell?\n",
    "\n",
    "def npoints(x, y):\n",
    "    '''\n",
    "    Count points for gridcell with center x, y. Expects dataframe 'ba', width 'width'.\n",
    "    '''\n",
    "    n = len(ba.loc[(ba.x > x - width/2) & (ba.x < x + width/2) & \n",
    "                   (ba.y > y - width/2) & (ba.y < y + width/2)])    \n",
    "    return n\n",
    "\n",
    "gridcells['n'] = gridcells.apply(lambda row: npoints(row['x'], row['y']), axis=1)\n",
    "\n",
    "print gridcells.describe()"
   ]
  },
  {
   "cell_type": "code",
   "execution_count": null,
   "metadata": {
    "collapsed": true
   },
   "outputs": [],
   "source": [
    "# Should be able to speed this up using R-tree indexes...\n",
    "# https://github.com/gboeing/urban-data-science/blob/master/19-Spatial-Analysis-and-Cartography/rtree-spatial-indexing.ipynb"
   ]
  },
  {
   "cell_type": "code",
   "execution_count": null,
   "metadata": {
    "collapsed": true
   },
   "outputs": [],
   "source": []
  },
  {
   "cell_type": "markdown",
   "metadata": {},
   "source": [
    "### Save some output"
   ]
  },
  {
   "cell_type": "code",
   "execution_count": 60,
   "metadata": {
    "collapsed": true
   },
   "outputs": [],
   "source": [
    "gridcells['lng'], gridcells['lat'] = xy_to_lnglat(gridcells.x, gridcells.y)\n",
    "\n",
    "out = gridcells[['lng','lat','n']]\n",
    "\n",
    "out.to_csv('gridcells_all.csv')\n",
    "out.loc[out.n > 500].to_csv('gridcells_top.csv')"
   ]
  },
  {
   "cell_type": "code",
   "execution_count": null,
   "metadata": {
    "collapsed": true
   },
   "outputs": [],
   "source": []
  },
  {
   "cell_type": "code",
   "execution_count": null,
   "metadata": {
    "collapsed": true
   },
   "outputs": [],
   "source": []
  },
  {
   "cell_type": "code",
   "execution_count": null,
   "metadata": {
    "collapsed": true
   },
   "outputs": [],
   "source": []
  }
 ],
 "metadata": {
  "kernelspec": {
   "display_name": "Python 2",
   "language": "python",
   "name": "python2"
  },
  "language_info": {
   "codemirror_mode": {
    "name": "ipython",
    "version": 2
   },
   "file_extension": ".py",
   "mimetype": "text/x-python",
   "name": "python",
   "nbconvert_exporter": "python",
   "pygments_lexer": "ipython2",
   "version": "2.7.11"
  }
 },
 "nbformat": 4,
 "nbformat_minor": 0
}
